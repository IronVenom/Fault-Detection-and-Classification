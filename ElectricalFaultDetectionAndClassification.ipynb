{
  "nbformat": 4,
  "nbformat_minor": 0,
  "metadata": {
    "colab": {
      "name": "ElectricalFaultDetectionAndClassification.ipynb",
      "provenance": [],
      "toc_visible": true
    },
    "kernelspec": {
      "name": "python3",
      "display_name": "Python 3"
    },
    "language_info": {
      "name": "python"
    },
    "accelerator": "GPU"
  },
  "cells": [
    {
      "cell_type": "markdown",
      "metadata": {
        "id": "22vGnvyZCB0Q"
      },
      "source": [
        "# Electrical Fault Detection and Classification using Line and Phase Currents and Voltages\n",
        "\n",
        "Electrical power plants require fault detection and operation of protection equipment in minimum possible time to remain stable. The faults on electrical power system transmission lines should be first detected and classified correctly, and repaired in the least possible time. The protection system used for a transmission line can also initiate the other relays to protect the power system from outages. A sound fault detection system provides a fast and secure relaying operation. Once trained on reliable data, an ANN-based fault detection system can help provide fast predictions for the presence of a fault and classify what kind of fault it is.\n"
      ]
    },
    {
      "cell_type": "code",
      "metadata": {
        "colab": {
          "base_uri": "https://localhost:8080/"
        },
        "id": "vSeNLEdOq_6Y",
        "outputId": "b7d52502-a9e3-4948-8776-a0c70ba1db2f"
      },
      "source": [
        "from google.colab import drive\n",
        "drive.mount('/content/drive')"
      ],
      "execution_count": 1,
      "outputs": [
        {
          "output_type": "stream",
          "name": "stdout",
          "text": [
            "Mounted at /content/drive\n"
          ]
        }
      ]
    },
    {
      "cell_type": "code",
      "metadata": {
        "id": "Uf66rESprpg_"
      },
      "source": [
        "import pandas as pd\n",
        "import numpy as np\n",
        "import matplotlib.pyplot as plt\n",
        "from sklearn.model_selection import train_test_split\n",
        "from sklearn.preprocessing import StandardScaler\n",
        "from sklearn.metrics import confusion_matrix, accuracy_score\n",
        "from sklearn.preprocessing import LabelEncoder\n",
        "from sklearn.compose import ColumnTransformer\n",
        "from sklearn.preprocessing import OneHotEncoder\n",
        "from keras.utils import np_utils\n",
        "from tensorflow.keras.layers import Dense\n",
        "from tensorflow.keras.models import Sequential"
      ],
      "execution_count": 60,
      "outputs": []
    },
    {
      "cell_type": "markdown",
      "metadata": {
        "id": "Vw66GP8It_IK"
      },
      "source": [
        "# Fault Detection"
      ]
    },
    {
      "cell_type": "markdown",
      "metadata": {
        "id": "J2vSpIGmrr9M"
      },
      "source": [
        "## Data Preprocessing"
      ]
    },
    {
      "cell_type": "code",
      "metadata": {
        "colab": {
          "base_uri": "https://localhost:8080/"
        },
        "id": "lAnwsRAdrrvm",
        "outputId": "60ad4d1b-96d7-4a25-ec7a-5099c1d6a4f0"
      },
      "source": [
        "!unzip '/content/drive/MyDrive/Datasets/faults.zip' -d '/content'"
      ],
      "execution_count": 3,
      "outputs": [
        {
          "output_type": "stream",
          "name": "stdout",
          "text": [
            "Archive:  /content/drive/MyDrive/Datasets/faults.zip\n",
            "  inflating: /content/classData.csv  \n",
            "  inflating: /content/detect_dataset.csv  \n"
          ]
        }
      ]
    },
    {
      "cell_type": "code",
      "metadata": {
        "id": "jtxz8WJxr69Y"
      },
      "source": [
        "detectionData = pd.read_csv('detect_dataset.csv')"
      ],
      "execution_count": 4,
      "outputs": []
    },
    {
      "cell_type": "code",
      "metadata": {
        "colab": {
          "base_uri": "https://localhost:8080/",
          "height": 203
        },
        "id": "8oxpCnfhsBzo",
        "outputId": "05eac268-8f84-42ad-fb4f-151c548b7f42"
      },
      "source": [
        "detectionData.head()"
      ],
      "execution_count": 5,
      "outputs": [
        {
          "output_type": "execute_result",
          "data": {
            "text/html": [
              "<div>\n",
              "<style scoped>\n",
              "    .dataframe tbody tr th:only-of-type {\n",
              "        vertical-align: middle;\n",
              "    }\n",
              "\n",
              "    .dataframe tbody tr th {\n",
              "        vertical-align: top;\n",
              "    }\n",
              "\n",
              "    .dataframe thead th {\n",
              "        text-align: right;\n",
              "    }\n",
              "</style>\n",
              "<table border=\"1\" class=\"dataframe\">\n",
              "  <thead>\n",
              "    <tr style=\"text-align: right;\">\n",
              "      <th></th>\n",
              "      <th>Output (S)</th>\n",
              "      <th>Ia</th>\n",
              "      <th>Ib</th>\n",
              "      <th>Ic</th>\n",
              "      <th>Va</th>\n",
              "      <th>Vb</th>\n",
              "      <th>Vc</th>\n",
              "      <th>Unnamed: 7</th>\n",
              "      <th>Unnamed: 8</th>\n",
              "    </tr>\n",
              "  </thead>\n",
              "  <tbody>\n",
              "    <tr>\n",
              "      <th>0</th>\n",
              "      <td>0</td>\n",
              "      <td>-170.472196</td>\n",
              "      <td>9.219613</td>\n",
              "      <td>161.252583</td>\n",
              "      <td>0.054490</td>\n",
              "      <td>-0.659921</td>\n",
              "      <td>0.605431</td>\n",
              "      <td>NaN</td>\n",
              "      <td>NaN</td>\n",
              "    </tr>\n",
              "    <tr>\n",
              "      <th>1</th>\n",
              "      <td>0</td>\n",
              "      <td>-122.235754</td>\n",
              "      <td>6.168667</td>\n",
              "      <td>116.067087</td>\n",
              "      <td>0.102000</td>\n",
              "      <td>-0.628612</td>\n",
              "      <td>0.526202</td>\n",
              "      <td>NaN</td>\n",
              "      <td>NaN</td>\n",
              "    </tr>\n",
              "    <tr>\n",
              "      <th>2</th>\n",
              "      <td>0</td>\n",
              "      <td>-90.161474</td>\n",
              "      <td>3.813632</td>\n",
              "      <td>86.347841</td>\n",
              "      <td>0.141026</td>\n",
              "      <td>-0.605277</td>\n",
              "      <td>0.464251</td>\n",
              "      <td>NaN</td>\n",
              "      <td>NaN</td>\n",
              "    </tr>\n",
              "    <tr>\n",
              "      <th>3</th>\n",
              "      <td>0</td>\n",
              "      <td>-79.904916</td>\n",
              "      <td>2.398803</td>\n",
              "      <td>77.506112</td>\n",
              "      <td>0.156272</td>\n",
              "      <td>-0.602235</td>\n",
              "      <td>0.445963</td>\n",
              "      <td>NaN</td>\n",
              "      <td>NaN</td>\n",
              "    </tr>\n",
              "    <tr>\n",
              "      <th>4</th>\n",
              "      <td>0</td>\n",
              "      <td>-63.885255</td>\n",
              "      <td>0.590667</td>\n",
              "      <td>63.294587</td>\n",
              "      <td>0.180451</td>\n",
              "      <td>-0.591501</td>\n",
              "      <td>0.411050</td>\n",
              "      <td>NaN</td>\n",
              "      <td>NaN</td>\n",
              "    </tr>\n",
              "  </tbody>\n",
              "</table>\n",
              "</div>"
            ],
            "text/plain": [
              "   Output (S)          Ia        Ib  ...        Vc  Unnamed: 7  Unnamed: 8\n",
              "0           0 -170.472196  9.219613  ...  0.605431         NaN         NaN\n",
              "1           0 -122.235754  6.168667  ...  0.526202         NaN         NaN\n",
              "2           0  -90.161474  3.813632  ...  0.464251         NaN         NaN\n",
              "3           0  -79.904916  2.398803  ...  0.445963         NaN         NaN\n",
              "4           0  -63.885255  0.590667  ...  0.411050         NaN         NaN\n",
              "\n",
              "[5 rows x 9 columns]"
            ]
          },
          "metadata": {},
          "execution_count": 5
        }
      ]
    },
    {
      "cell_type": "code",
      "metadata": {
        "id": "P86wbmAmsEM-"
      },
      "source": [
        "detectionData.drop(['Unnamed: 7', 'Unnamed: 8'], axis='columns' ,inplace=True)"
      ],
      "execution_count": 6,
      "outputs": []
    },
    {
      "cell_type": "code",
      "metadata": {
        "colab": {
          "base_uri": "https://localhost:8080/"
        },
        "id": "7rDeOhAYyQnP",
        "outputId": "331c7708-7b48-4ab1-906c-295cc0da778d"
      },
      "source": [
        "detectionData.shape"
      ],
      "execution_count": 7,
      "outputs": [
        {
          "output_type": "execute_result",
          "data": {
            "text/plain": [
              "(12001, 7)"
            ]
          },
          "metadata": {},
          "execution_count": 7
        }
      ]
    },
    {
      "cell_type": "code",
      "metadata": {
        "colab": {
          "base_uri": "https://localhost:8080/",
          "height": 203
        },
        "id": "Tm77TZMxsle8",
        "outputId": "ff20ccb5-53fe-4bcd-a6f2-02a635b73ab5"
      },
      "source": [
        "detectionData.head()"
      ],
      "execution_count": 8,
      "outputs": [
        {
          "output_type": "execute_result",
          "data": {
            "text/html": [
              "<div>\n",
              "<style scoped>\n",
              "    .dataframe tbody tr th:only-of-type {\n",
              "        vertical-align: middle;\n",
              "    }\n",
              "\n",
              "    .dataframe tbody tr th {\n",
              "        vertical-align: top;\n",
              "    }\n",
              "\n",
              "    .dataframe thead th {\n",
              "        text-align: right;\n",
              "    }\n",
              "</style>\n",
              "<table border=\"1\" class=\"dataframe\">\n",
              "  <thead>\n",
              "    <tr style=\"text-align: right;\">\n",
              "      <th></th>\n",
              "      <th>Output (S)</th>\n",
              "      <th>Ia</th>\n",
              "      <th>Ib</th>\n",
              "      <th>Ic</th>\n",
              "      <th>Va</th>\n",
              "      <th>Vb</th>\n",
              "      <th>Vc</th>\n",
              "    </tr>\n",
              "  </thead>\n",
              "  <tbody>\n",
              "    <tr>\n",
              "      <th>0</th>\n",
              "      <td>0</td>\n",
              "      <td>-170.472196</td>\n",
              "      <td>9.219613</td>\n",
              "      <td>161.252583</td>\n",
              "      <td>0.054490</td>\n",
              "      <td>-0.659921</td>\n",
              "      <td>0.605431</td>\n",
              "    </tr>\n",
              "    <tr>\n",
              "      <th>1</th>\n",
              "      <td>0</td>\n",
              "      <td>-122.235754</td>\n",
              "      <td>6.168667</td>\n",
              "      <td>116.067087</td>\n",
              "      <td>0.102000</td>\n",
              "      <td>-0.628612</td>\n",
              "      <td>0.526202</td>\n",
              "    </tr>\n",
              "    <tr>\n",
              "      <th>2</th>\n",
              "      <td>0</td>\n",
              "      <td>-90.161474</td>\n",
              "      <td>3.813632</td>\n",
              "      <td>86.347841</td>\n",
              "      <td>0.141026</td>\n",
              "      <td>-0.605277</td>\n",
              "      <td>0.464251</td>\n",
              "    </tr>\n",
              "    <tr>\n",
              "      <th>3</th>\n",
              "      <td>0</td>\n",
              "      <td>-79.904916</td>\n",
              "      <td>2.398803</td>\n",
              "      <td>77.506112</td>\n",
              "      <td>0.156272</td>\n",
              "      <td>-0.602235</td>\n",
              "      <td>0.445963</td>\n",
              "    </tr>\n",
              "    <tr>\n",
              "      <th>4</th>\n",
              "      <td>0</td>\n",
              "      <td>-63.885255</td>\n",
              "      <td>0.590667</td>\n",
              "      <td>63.294587</td>\n",
              "      <td>0.180451</td>\n",
              "      <td>-0.591501</td>\n",
              "      <td>0.411050</td>\n",
              "    </tr>\n",
              "  </tbody>\n",
              "</table>\n",
              "</div>"
            ],
            "text/plain": [
              "   Output (S)          Ia        Ib          Ic        Va        Vb        Vc\n",
              "0           0 -170.472196  9.219613  161.252583  0.054490 -0.659921  0.605431\n",
              "1           0 -122.235754  6.168667  116.067087  0.102000 -0.628612  0.526202\n",
              "2           0  -90.161474  3.813632   86.347841  0.141026 -0.605277  0.464251\n",
              "3           0  -79.904916  2.398803   77.506112  0.156272 -0.602235  0.445963\n",
              "4           0  -63.885255  0.590667   63.294587  0.180451 -0.591501  0.411050"
            ]
          },
          "metadata": {},
          "execution_count": 8
        }
      ]
    },
    {
      "cell_type": "code",
      "metadata": {
        "colab": {
          "base_uri": "https://localhost:8080/"
        },
        "id": "WQQ30YQQu8g_",
        "outputId": "a1bcb84a-52c1-47d3-ee20-2a81d0dd56e1"
      },
      "source": [
        "detectionData['Output (S)'].value_counts()"
      ],
      "execution_count": 9,
      "outputs": [
        {
          "output_type": "execute_result",
          "data": {
            "text/plain": [
              "0    6505\n",
              "1    5496\n",
              "Name: Output (S), dtype: int64"
            ]
          },
          "metadata": {},
          "execution_count": 9
        }
      ]
    },
    {
      "cell_type": "code",
      "metadata": {
        "id": "AwC5WTuzuTui"
      },
      "source": [
        "Xdetection = detectionData.iloc[:, 1:].values\n",
        "ydetection = detectionData.iloc[:, 0].values"
      ],
      "execution_count": 10,
      "outputs": []
    },
    {
      "cell_type": "code",
      "metadata": {
        "id": "ivPH1a7Xukef"
      },
      "source": [
        "Xd_train, Xd_test, yd_train, yd_test = train_test_split(Xdetection, ydetection, test_size = 0.2, random_state = 0)"
      ],
      "execution_count": 11,
      "outputs": []
    },
    {
      "cell_type": "code",
      "metadata": {
        "id": "KY6pZMEevVEz"
      },
      "source": [
        "sc = StandardScaler()\n",
        "Xd_train = sc.fit_transform(Xd_train)\n",
        "Xd_test = sc.transform(Xd_test)"
      ],
      "execution_count": 12,
      "outputs": []
    },
    {
      "cell_type": "markdown",
      "metadata": {
        "id": "tlGsXXi7vZM4"
      },
      "source": [
        "## ANN Model"
      ]
    },
    {
      "cell_type": "code",
      "metadata": {
        "id": "eIgdcWpQvY_Z"
      },
      "source": [
        "detectionANN = Sequential()\n",
        "detectionANN.add(Dense(units=6, activation='relu'))\n",
        "detectionANN.add(Dense(units=6, activation='relu'))\n",
        "detectionANN.add(Dense(units=1, activation='sigmoid'))\n",
        "detectionANN.compile(optimizer = 'adam', loss = 'binary_crossentropy', metrics = ['accuracy'])"
      ],
      "execution_count": 13,
      "outputs": []
    },
    {
      "cell_type": "code",
      "metadata": {
        "colab": {
          "base_uri": "https://localhost:8080/"
        },
        "id": "fFtt5P2VwMA1",
        "outputId": "5c99ceac-328d-49ad-f4bd-cf68b487b1cf"
      },
      "source": [
        "detectionANN.fit(Xd_train, yd_train, batch_size = 32, epochs = 100)"
      ],
      "execution_count": 14,
      "outputs": [
        {
          "output_type": "stream",
          "name": "stdout",
          "text": [
            "Epoch 1/100\n",
            "300/300 [==============================] - 4s 3ms/step - loss: 0.5607 - accuracy: 0.7136\n",
            "Epoch 2/100\n",
            "300/300 [==============================] - 1s 3ms/step - loss: 0.3026 - accuracy: 0.8951\n",
            "Epoch 3/100\n",
            "300/300 [==============================] - 1s 3ms/step - loss: 0.1854 - accuracy: 0.9491\n",
            "Epoch 4/100\n",
            "300/300 [==============================] - 1s 3ms/step - loss: 0.1154 - accuracy: 0.9697\n",
            "Epoch 5/100\n",
            "300/300 [==============================] - 1s 3ms/step - loss: 0.0831 - accuracy: 0.9775\n",
            "Epoch 6/100\n",
            "300/300 [==============================] - 1s 3ms/step - loss: 0.0665 - accuracy: 0.9815\n",
            "Epoch 7/100\n",
            "300/300 [==============================] - 1s 3ms/step - loss: 0.0574 - accuracy: 0.9837\n",
            "Epoch 8/100\n",
            "300/300 [==============================] - 1s 3ms/step - loss: 0.0513 - accuracy: 0.9846\n",
            "Epoch 9/100\n",
            "300/300 [==============================] - 1s 3ms/step - loss: 0.0470 - accuracy: 0.9859\n",
            "Epoch 10/100\n",
            "300/300 [==============================] - 1s 3ms/step - loss: 0.0441 - accuracy: 0.9867\n",
            "Epoch 11/100\n",
            "300/300 [==============================] - 1s 3ms/step - loss: 0.0417 - accuracy: 0.9870\n",
            "Epoch 12/100\n",
            "300/300 [==============================] - 1s 3ms/step - loss: 0.0399 - accuracy: 0.9877\n",
            "Epoch 13/100\n",
            "300/300 [==============================] - 1s 3ms/step - loss: 0.0388 - accuracy: 0.9883\n",
            "Epoch 14/100\n",
            "300/300 [==============================] - 1s 3ms/step - loss: 0.0376 - accuracy: 0.9889\n",
            "Epoch 15/100\n",
            "300/300 [==============================] - 1s 3ms/step - loss: 0.0367 - accuracy: 0.9893\n",
            "Epoch 16/100\n",
            "300/300 [==============================] - 1s 3ms/step - loss: 0.0352 - accuracy: 0.9893\n",
            "Epoch 17/100\n",
            "300/300 [==============================] - 1s 3ms/step - loss: 0.0345 - accuracy: 0.9895\n",
            "Epoch 18/100\n",
            "300/300 [==============================] - 1s 3ms/step - loss: 0.0338 - accuracy: 0.9891\n",
            "Epoch 19/100\n",
            "300/300 [==============================] - 1s 2ms/step - loss: 0.0326 - accuracy: 0.9898\n",
            "Epoch 20/100\n",
            "300/300 [==============================] - 1s 3ms/step - loss: 0.0318 - accuracy: 0.9900\n",
            "Epoch 21/100\n",
            "300/300 [==============================] - 1s 3ms/step - loss: 0.0313 - accuracy: 0.9904\n",
            "Epoch 22/100\n",
            "300/300 [==============================] - 1s 3ms/step - loss: 0.0304 - accuracy: 0.9903\n",
            "Epoch 23/100\n",
            "300/300 [==============================] - 1s 3ms/step - loss: 0.0298 - accuracy: 0.9910\n",
            "Epoch 24/100\n",
            "300/300 [==============================] - 1s 2ms/step - loss: 0.0285 - accuracy: 0.9905\n",
            "Epoch 25/100\n",
            "300/300 [==============================] - 1s 3ms/step - loss: 0.0282 - accuracy: 0.9909\n",
            "Epoch 26/100\n",
            "300/300 [==============================] - 1s 3ms/step - loss: 0.0277 - accuracy: 0.9916\n",
            "Epoch 27/100\n",
            "300/300 [==============================] - 1s 3ms/step - loss: 0.0270 - accuracy: 0.9916\n",
            "Epoch 28/100\n",
            "300/300 [==============================] - 1s 3ms/step - loss: 0.0258 - accuracy: 0.9915\n",
            "Epoch 29/100\n",
            "300/300 [==============================] - 1s 3ms/step - loss: 0.0255 - accuracy: 0.9916\n",
            "Epoch 30/100\n",
            "300/300 [==============================] - 1s 3ms/step - loss: 0.0248 - accuracy: 0.9924\n",
            "Epoch 31/100\n",
            "300/300 [==============================] - 1s 3ms/step - loss: 0.0244 - accuracy: 0.9923\n",
            "Epoch 32/100\n",
            "300/300 [==============================] - 1s 3ms/step - loss: 0.0243 - accuracy: 0.9920\n",
            "Epoch 33/100\n",
            "300/300 [==============================] - 1s 3ms/step - loss: 0.0237 - accuracy: 0.9922\n",
            "Epoch 34/100\n",
            "300/300 [==============================] - 1s 3ms/step - loss: 0.0232 - accuracy: 0.9925\n",
            "Epoch 35/100\n",
            "300/300 [==============================] - 1s 3ms/step - loss: 0.0230 - accuracy: 0.9924\n",
            "Epoch 36/100\n",
            "300/300 [==============================] - 1s 3ms/step - loss: 0.0230 - accuracy: 0.9924\n",
            "Epoch 37/100\n",
            "300/300 [==============================] - 1s 3ms/step - loss: 0.0223 - accuracy: 0.9927\n",
            "Epoch 38/100\n",
            "300/300 [==============================] - 1s 3ms/step - loss: 0.0217 - accuracy: 0.9927\n",
            "Epoch 39/100\n",
            "300/300 [==============================] - 1s 3ms/step - loss: 0.0217 - accuracy: 0.9927\n",
            "Epoch 40/100\n",
            "300/300 [==============================] - 1s 3ms/step - loss: 0.0214 - accuracy: 0.9926\n",
            "Epoch 41/100\n",
            "300/300 [==============================] - 1s 3ms/step - loss: 0.0211 - accuracy: 0.9930\n",
            "Epoch 42/100\n",
            "300/300 [==============================] - 1s 3ms/step - loss: 0.0208 - accuracy: 0.9927\n",
            "Epoch 43/100\n",
            "300/300 [==============================] - 1s 3ms/step - loss: 0.0207 - accuracy: 0.9926\n",
            "Epoch 44/100\n",
            "300/300 [==============================] - 1s 3ms/step - loss: 0.0204 - accuracy: 0.9928\n",
            "Epoch 45/100\n",
            "300/300 [==============================] - 1s 3ms/step - loss: 0.0203 - accuracy: 0.9932\n",
            "Epoch 46/100\n",
            "300/300 [==============================] - 1s 3ms/step - loss: 0.0203 - accuracy: 0.9925\n",
            "Epoch 47/100\n",
            "300/300 [==============================] - 1s 3ms/step - loss: 0.0201 - accuracy: 0.9930\n",
            "Epoch 48/100\n",
            "300/300 [==============================] - 1s 3ms/step - loss: 0.0195 - accuracy: 0.9930\n",
            "Epoch 49/100\n",
            "300/300 [==============================] - 1s 3ms/step - loss: 0.0199 - accuracy: 0.9928\n",
            "Epoch 50/100\n",
            "300/300 [==============================] - 1s 3ms/step - loss: 0.0195 - accuracy: 0.9929\n",
            "Epoch 51/100\n",
            "300/300 [==============================] - 1s 3ms/step - loss: 0.0192 - accuracy: 0.9928\n",
            "Epoch 52/100\n",
            "300/300 [==============================] - 1s 3ms/step - loss: 0.0191 - accuracy: 0.9929\n",
            "Epoch 53/100\n",
            "300/300 [==============================] - 1s 3ms/step - loss: 0.0187 - accuracy: 0.9931\n",
            "Epoch 54/100\n",
            "300/300 [==============================] - 1s 3ms/step - loss: 0.0187 - accuracy: 0.9931\n",
            "Epoch 55/100\n",
            "300/300 [==============================] - 1s 3ms/step - loss: 0.0187 - accuracy: 0.9934\n",
            "Epoch 56/100\n",
            "300/300 [==============================] - 1s 3ms/step - loss: 0.0183 - accuracy: 0.9932\n",
            "Epoch 57/100\n",
            "300/300 [==============================] - 1s 3ms/step - loss: 0.0180 - accuracy: 0.9932\n",
            "Epoch 58/100\n",
            "300/300 [==============================] - 1s 3ms/step - loss: 0.0184 - accuracy: 0.9932\n",
            "Epoch 59/100\n",
            "300/300 [==============================] - 1s 3ms/step - loss: 0.0178 - accuracy: 0.9930\n",
            "Epoch 60/100\n",
            "300/300 [==============================] - 1s 3ms/step - loss: 0.0181 - accuracy: 0.9926\n",
            "Epoch 61/100\n",
            "300/300 [==============================] - 1s 3ms/step - loss: 0.0177 - accuracy: 0.9932\n",
            "Epoch 62/100\n",
            "300/300 [==============================] - 1s 3ms/step - loss: 0.0175 - accuracy: 0.9934\n",
            "Epoch 63/100\n",
            "300/300 [==============================] - 1s 3ms/step - loss: 0.0176 - accuracy: 0.9928\n",
            "Epoch 64/100\n",
            "300/300 [==============================] - 1s 3ms/step - loss: 0.0172 - accuracy: 0.9937\n",
            "Epoch 65/100\n",
            "300/300 [==============================] - 1s 3ms/step - loss: 0.0173 - accuracy: 0.9933\n",
            "Epoch 66/100\n",
            "300/300 [==============================] - 1s 3ms/step - loss: 0.0168 - accuracy: 0.9934\n",
            "Epoch 67/100\n",
            "300/300 [==============================] - 1s 3ms/step - loss: 0.0168 - accuracy: 0.9932\n",
            "Epoch 68/100\n",
            "300/300 [==============================] - 1s 3ms/step - loss: 0.0167 - accuracy: 0.9935\n",
            "Epoch 69/100\n",
            "300/300 [==============================] - 1s 3ms/step - loss: 0.0167 - accuracy: 0.9932\n",
            "Epoch 70/100\n",
            "300/300 [==============================] - 1s 3ms/step - loss: 0.0161 - accuracy: 0.9939\n",
            "Epoch 71/100\n",
            "300/300 [==============================] - 1s 3ms/step - loss: 0.0162 - accuracy: 0.9940\n",
            "Epoch 72/100\n",
            "300/300 [==============================] - 1s 3ms/step - loss: 0.0161 - accuracy: 0.9931\n",
            "Epoch 73/100\n",
            "300/300 [==============================] - 1s 3ms/step - loss: 0.0162 - accuracy: 0.9934\n",
            "Epoch 74/100\n",
            "300/300 [==============================] - 1s 3ms/step - loss: 0.0162 - accuracy: 0.9929\n",
            "Epoch 75/100\n",
            "300/300 [==============================] - 1s 3ms/step - loss: 0.0161 - accuracy: 0.9935\n",
            "Epoch 76/100\n",
            "300/300 [==============================] - 1s 3ms/step - loss: 0.0156 - accuracy: 0.9941\n",
            "Epoch 77/100\n",
            "300/300 [==============================] - 1s 3ms/step - loss: 0.0152 - accuracy: 0.9945\n",
            "Epoch 78/100\n",
            "300/300 [==============================] - 1s 2ms/step - loss: 0.0155 - accuracy: 0.9939\n",
            "Epoch 79/100\n",
            "300/300 [==============================] - 1s 3ms/step - loss: 0.0148 - accuracy: 0.9941\n",
            "Epoch 80/100\n",
            "300/300 [==============================] - 1s 3ms/step - loss: 0.0152 - accuracy: 0.9941\n",
            "Epoch 81/100\n",
            "300/300 [==============================] - 1s 3ms/step - loss: 0.0147 - accuracy: 0.9942\n",
            "Epoch 82/100\n",
            "300/300 [==============================] - 1s 3ms/step - loss: 0.0149 - accuracy: 0.9939\n",
            "Epoch 83/100\n",
            "300/300 [==============================] - 1s 3ms/step - loss: 0.0149 - accuracy: 0.9943\n",
            "Epoch 84/100\n",
            "300/300 [==============================] - 1s 3ms/step - loss: 0.0147 - accuracy: 0.9947\n",
            "Epoch 85/100\n",
            "300/300 [==============================] - 1s 3ms/step - loss: 0.0146 - accuracy: 0.9940\n",
            "Epoch 86/100\n",
            "300/300 [==============================] - 1s 3ms/step - loss: 0.0149 - accuracy: 0.9937\n",
            "Epoch 87/100\n",
            "300/300 [==============================] - 1s 3ms/step - loss: 0.0143 - accuracy: 0.9945\n",
            "Epoch 88/100\n",
            "300/300 [==============================] - 1s 3ms/step - loss: 0.0141 - accuracy: 0.9940\n",
            "Epoch 89/100\n",
            "300/300 [==============================] - 1s 3ms/step - loss: 0.0141 - accuracy: 0.9942\n",
            "Epoch 90/100\n",
            "300/300 [==============================] - 1s 3ms/step - loss: 0.0139 - accuracy: 0.9947\n",
            "Epoch 91/100\n",
            "300/300 [==============================] - 1s 2ms/step - loss: 0.0136 - accuracy: 0.9943\n",
            "Epoch 92/100\n",
            "300/300 [==============================] - 1s 3ms/step - loss: 0.0134 - accuracy: 0.9941\n",
            "Epoch 93/100\n",
            "300/300 [==============================] - 1s 3ms/step - loss: 0.0134 - accuracy: 0.9937\n",
            "Epoch 94/100\n",
            "300/300 [==============================] - 1s 2ms/step - loss: 0.0131 - accuracy: 0.9944\n",
            "Epoch 95/100\n",
            "300/300 [==============================] - 1s 3ms/step - loss: 0.0132 - accuracy: 0.9945\n",
            "Epoch 96/100\n",
            "300/300 [==============================] - 1s 3ms/step - loss: 0.0133 - accuracy: 0.9947\n",
            "Epoch 97/100\n",
            "300/300 [==============================] - 1s 3ms/step - loss: 0.0128 - accuracy: 0.9949\n",
            "Epoch 98/100\n",
            "300/300 [==============================] - 1s 3ms/step - loss: 0.0130 - accuracy: 0.9952\n",
            "Epoch 99/100\n",
            "300/300 [==============================] - 1s 3ms/step - loss: 0.0128 - accuracy: 0.9939\n",
            "Epoch 100/100\n",
            "300/300 [==============================] - 1s 3ms/step - loss: 0.0129 - accuracy: 0.9952\n"
          ]
        },
        {
          "output_type": "execute_result",
          "data": {
            "text/plain": [
              "<keras.callbacks.History at 0x7f70b065f3d0>"
            ]
          },
          "metadata": {},
          "execution_count": 14
        }
      ]
    },
    {
      "cell_type": "markdown",
      "metadata": {
        "id": "D15b-JUAwqbD"
      },
      "source": [
        "## Results"
      ]
    },
    {
      "cell_type": "code",
      "metadata": {
        "colab": {
          "base_uri": "https://localhost:8080/"
        },
        "id": "C8IKuO2HwsFR",
        "outputId": "79854587-87f0-4af8-f388-f0ba3fc86b7c"
      },
      "source": [
        "yd_pred = detectionANN.predict(Xd_test)\n",
        "yd_pred = (yd_pred > 0.5)\n",
        "print(np.concatenate((yd_pred.reshape(len(yd_pred),1), yd_test.reshape(len(yd_test),1)),1))"
      ],
      "execution_count": 15,
      "outputs": [
        {
          "output_type": "stream",
          "name": "stdout",
          "text": [
            "[[1 1]\n",
            " [0 0]\n",
            " [0 0]\n",
            " ...\n",
            " [0 0]\n",
            " [0 0]\n",
            " [0 1]]\n"
          ]
        }
      ]
    },
    {
      "cell_type": "code",
      "metadata": {
        "colab": {
          "base_uri": "https://localhost:8080/"
        },
        "id": "Q4gfoCtNw0JS",
        "outputId": "3e48cc0f-76ab-4516-c969-e640c8bdbf8b"
      },
      "source": [
        "cm = confusion_matrix(yd_test, yd_pred)\n",
        "acc = accuracy_score(yd_test, yd_pred)\n",
        "tn, fp, fn, tp = cm.ravel()\n",
        "print(f\"Correct Predictions : {tn+tp}\")\n",
        "print(f\"Wrong Predictions : {fn+fp}\")\n",
        "print(f\"Accuracy : {acc*100} %\")"
      ],
      "execution_count": 16,
      "outputs": [
        {
          "output_type": "stream",
          "name": "stdout",
          "text": [
            "Correct Predictions : 2387\n",
            "Wrong Predictions : 14\n",
            "Accuracy : 99.41690962099126 %\n"
          ]
        }
      ]
    },
    {
      "cell_type": "markdown",
      "metadata": {
        "id": "-CKxjp9gyjHF"
      },
      "source": [
        "# Fault Classification"
      ]
    },
    {
      "cell_type": "markdown",
      "metadata": {
        "id": "f4fpRk8TzKvD"
      },
      "source": [
        "## Data Preprocessing"
      ]
    },
    {
      "cell_type": "code",
      "metadata": {
        "id": "WJj55fkkyi0j"
      },
      "source": [
        "classData = pd.read_csv('classData.csv')"
      ],
      "execution_count": 17,
      "outputs": []
    },
    {
      "cell_type": "code",
      "metadata": {
        "colab": {
          "base_uri": "https://localhost:8080/"
        },
        "id": "gxKpC5AayqvT",
        "outputId": "9a98df58-4240-4661-bc78-be4571210bdc"
      },
      "source": [
        "classData.shape"
      ],
      "execution_count": 18,
      "outputs": [
        {
          "output_type": "execute_result",
          "data": {
            "text/plain": [
              "(7861, 10)"
            ]
          },
          "metadata": {},
          "execution_count": 18
        }
      ]
    },
    {
      "cell_type": "code",
      "metadata": {
        "colab": {
          "base_uri": "https://localhost:8080/",
          "height": 203
        },
        "id": "q523-eTtysiX",
        "outputId": "37f47843-a222-4e81-c2b0-e200cfca7fb2"
      },
      "source": [
        "classData.head()"
      ],
      "execution_count": 72,
      "outputs": [
        {
          "output_type": "execute_result",
          "data": {
            "text/html": [
              "<div>\n",
              "<style scoped>\n",
              "    .dataframe tbody tr th:only-of-type {\n",
              "        vertical-align: middle;\n",
              "    }\n",
              "\n",
              "    .dataframe tbody tr th {\n",
              "        vertical-align: top;\n",
              "    }\n",
              "\n",
              "    .dataframe thead th {\n",
              "        text-align: right;\n",
              "    }\n",
              "</style>\n",
              "<table border=\"1\" class=\"dataframe\">\n",
              "  <thead>\n",
              "    <tr style=\"text-align: right;\">\n",
              "      <th></th>\n",
              "      <th>G</th>\n",
              "      <th>C</th>\n",
              "      <th>B</th>\n",
              "      <th>A</th>\n",
              "      <th>Ia</th>\n",
              "      <th>Ib</th>\n",
              "      <th>Ic</th>\n",
              "      <th>Va</th>\n",
              "      <th>Vb</th>\n",
              "      <th>Vc</th>\n",
              "      <th>fault_types</th>\n",
              "    </tr>\n",
              "  </thead>\n",
              "  <tbody>\n",
              "    <tr>\n",
              "      <th>0</th>\n",
              "      <td>1</td>\n",
              "      <td>0</td>\n",
              "      <td>0</td>\n",
              "      <td>1</td>\n",
              "      <td>-151.291812</td>\n",
              "      <td>-9.677452</td>\n",
              "      <td>85.800162</td>\n",
              "      <td>0.400750</td>\n",
              "      <td>-0.132935</td>\n",
              "      <td>-0.267815</td>\n",
              "      <td>1001</td>\n",
              "    </tr>\n",
              "    <tr>\n",
              "      <th>1</th>\n",
              "      <td>1</td>\n",
              "      <td>0</td>\n",
              "      <td>0</td>\n",
              "      <td>1</td>\n",
              "      <td>-336.186183</td>\n",
              "      <td>-76.283262</td>\n",
              "      <td>18.328897</td>\n",
              "      <td>0.312732</td>\n",
              "      <td>-0.123633</td>\n",
              "      <td>-0.189099</td>\n",
              "      <td>1001</td>\n",
              "    </tr>\n",
              "    <tr>\n",
              "      <th>2</th>\n",
              "      <td>1</td>\n",
              "      <td>0</td>\n",
              "      <td>0</td>\n",
              "      <td>1</td>\n",
              "      <td>-502.891583</td>\n",
              "      <td>-174.648023</td>\n",
              "      <td>-80.924663</td>\n",
              "      <td>0.265728</td>\n",
              "      <td>-0.114301</td>\n",
              "      <td>-0.151428</td>\n",
              "      <td>1001</td>\n",
              "    </tr>\n",
              "    <tr>\n",
              "      <th>3</th>\n",
              "      <td>1</td>\n",
              "      <td>0</td>\n",
              "      <td>0</td>\n",
              "      <td>1</td>\n",
              "      <td>-593.941905</td>\n",
              "      <td>-217.703359</td>\n",
              "      <td>-124.891924</td>\n",
              "      <td>0.235511</td>\n",
              "      <td>-0.104940</td>\n",
              "      <td>-0.130570</td>\n",
              "      <td>1001</td>\n",
              "    </tr>\n",
              "    <tr>\n",
              "      <th>4</th>\n",
              "      <td>1</td>\n",
              "      <td>0</td>\n",
              "      <td>0</td>\n",
              "      <td>1</td>\n",
              "      <td>-643.663617</td>\n",
              "      <td>-224.159427</td>\n",
              "      <td>-132.282815</td>\n",
              "      <td>0.209537</td>\n",
              "      <td>-0.095554</td>\n",
              "      <td>-0.113983</td>\n",
              "      <td>1001</td>\n",
              "    </tr>\n",
              "  </tbody>\n",
              "</table>\n",
              "</div>"
            ],
            "text/plain": [
              "   G  C  B  A          Ia  ...          Ic        Va        Vb        Vc  fault_types\n",
              "0  1  0  0  1 -151.291812  ...   85.800162  0.400750 -0.132935 -0.267815         1001\n",
              "1  1  0  0  1 -336.186183  ...   18.328897  0.312732 -0.123633 -0.189099         1001\n",
              "2  1  0  0  1 -502.891583  ...  -80.924663  0.265728 -0.114301 -0.151428         1001\n",
              "3  1  0  0  1 -593.941905  ... -124.891924  0.235511 -0.104940 -0.130570         1001\n",
              "4  1  0  0  1 -643.663617  ... -132.282815  0.209537 -0.095554 -0.113983         1001\n",
              "\n",
              "[5 rows x 11 columns]"
            ]
          },
          "metadata": {},
          "execution_count": 72
        }
      ]
    },
    {
      "cell_type": "code",
      "metadata": {
        "id": "oLKebYk6zMq3"
      },
      "source": [
        "Xclass = classData.iloc[:, 4:].values\n",
        "yclass = classData.iloc[:, 0:4].values"
      ],
      "execution_count": 77,
      "outputs": []
    },
    {
      "cell_type": "code",
      "metadata": {
        "colab": {
          "base_uri": "https://localhost:8080/"
        },
        "id": "Z2PBjACsz7Q2",
        "outputId": "5e00575e-ec71-4436-d212-462e8df00827"
      },
      "source": [
        "print(Xclass[0,:])"
      ],
      "execution_count": 21,
      "outputs": [
        {
          "output_type": "stream",
          "name": "stdout",
          "text": [
            "[-1.51291812e+02 -9.67745156e+00  8.58001623e+01  4.00749853e-01\n",
            " -1.32934945e-01 -2.67814907e-01]\n"
          ]
        }
      ]
    },
    {
      "cell_type": "code",
      "metadata": {
        "colab": {
          "base_uri": "https://localhost:8080/"
        },
        "id": "fgOrKgzsz4rR",
        "outputId": "49984d92-8e4e-4693-9c5d-ce9d9e0c112d"
      },
      "source": [
        "print(yclass[0,:])"
      ],
      "execution_count": 50,
      "outputs": [
        {
          "output_type": "stream",
          "name": "stdout",
          "text": [
            "[1 0 0 1]\n"
          ]
        }
      ]
    },
    {
      "cell_type": "code",
      "metadata": {
        "id": "2DzG96Yd3gc2",
        "colab": {
          "base_uri": "https://localhost:8080/"
        },
        "outputId": "bc48f013-4b87-409f-8587-dc782740e722"
      },
      "source": [
        "faults = [\"None\", \"LG Fault\", \"LL Fault\", \"LLG Fault\", \"LLL Fault\", \"LLLG Fault\"]\n",
        "yc = []\n",
        "for f in yclass:\n",
        "  if f[0] == 0 and f[1] == 0 and f[2] == 0 and f[3] == 0:\n",
        "    yc.append(faults[0])\n",
        "  elif f[0] == 1 and f[1] == 0 and f[2] == 0 and f[3] == 1:\n",
        "    yc.append(faults[1])\n",
        "  elif f[0] == 0 and f[1] == 1 and f[2] == 1 and f[3] == 0:\n",
        "    yc.append(faults[2])\n",
        "  elif f[0] == 1 and f[1] == 0 and f[2] == 1 and f[3] == 1:\n",
        "    yc.append(faults[3])\n",
        "  elif f[0] == 0 and f[1] == 1 and f[2] == 1 and f[3] == 1:\n",
        "    yc.append(faults[4])\n",
        "  else:\n",
        "    yc.append(faults[5])\n",
        "yc = np.array(yc)\n",
        "print(f\"No Fault : {len(yc[yc==faults[0]])}\")\n",
        "print(f\"LF Fault : {len(yc[yc==faults[1]])}\")\n",
        "print(f\"LL Fault : {len(yc[yc==faults[2]])}\")\n",
        "print(f\"LLG Fault : {len(yc[yc==faults[3]])}\")\n",
        "print(f\"LLL Fault : {len(yc[yc==faults[4]])}\")\n",
        "print(f\"LLLG Fault : {len(yc[yc==faults[5]])}\")\n",
        "yclass = yc"
      ],
      "execution_count": 78,
      "outputs": [
        {
          "output_type": "stream",
          "name": "stdout",
          "text": [
            "No Fault : 2365\n",
            "LF Fault : 1129\n",
            "LL Fault : 1004\n",
            "LLG Fault : 1134\n",
            "LLL Fault : 1096\n",
            "LLLG Fault : 1133\n"
          ]
        }
      ]
    },
    {
      "cell_type": "code",
      "metadata": {
        "id": "m3WSLLAV6Y0H"
      },
      "source": [
        "encoder = LabelEncoder()\n",
        "encoder.fit(yclass)\n",
        "encoded_Y = encoder.transform(yclass)\n",
        "yclass = np_utils.to_categorical(encoded_Y)"
      ],
      "execution_count": 79,
      "outputs": []
    },
    {
      "cell_type": "code",
      "metadata": {
        "id": "kw4WMxI3037x"
      },
      "source": [
        "Xc_train, Xc_test, yc_train, yc_test = train_test_split(Xclass, yclass, test_size = 0.2, random_state = 0)"
      ],
      "execution_count": 80,
      "outputs": []
    },
    {
      "cell_type": "code",
      "metadata": {
        "id": "MEW-L6vP08lo"
      },
      "source": [
        "sc = StandardScaler()\n",
        "Xc_train = sc.fit_transform(Xc_train)\n",
        "Xc_test = sc.transform(Xc_test)"
      ],
      "execution_count": 81,
      "outputs": []
    },
    {
      "cell_type": "markdown",
      "metadata": {
        "id": "q4NqAZHi0nNj"
      },
      "source": [
        "## ANN Model"
      ]
    },
    {
      "cell_type": "code",
      "metadata": {
        "id": "QsVLkzqn0mph"
      },
      "source": [
        "classANN = Sequential()\n",
        "classANN.add(Dense(units=12, activation='relu'))\n",
        "classANN.add(Dense(units=12, activation='relu'))\n",
        "classANN.add(Dense(units=6, activation='sigmoid'))\n",
        "classANN.compile(optimizer = 'adam', loss = 'categorical_crossentropy', metrics = ['accuracy'])"
      ],
      "execution_count": 83,
      "outputs": []
    },
    {
      "cell_type": "code",
      "metadata": {
        "id": "wM1KNIUnz_NO",
        "colab": {
          "base_uri": "https://localhost:8080/"
        },
        "outputId": "7712c9a6-f155-48c9-d2b1-a30390b3c3c2"
      },
      "source": [
        "classANN.fit(Xc_train, yc_train, batch_size = 32, epochs = 100)"
      ],
      "execution_count": 84,
      "outputs": [
        {
          "output_type": "stream",
          "name": "stdout",
          "text": [
            "Epoch 1/100\n",
            "197/197 [==============================] - 1s 4ms/step - loss: 1.4433 - accuracy: 0.5060\n",
            "Epoch 2/100\n",
            "197/197 [==============================] - 1s 4ms/step - loss: 0.8129 - accuracy: 0.7351\n",
            "Epoch 3/100\n",
            "197/197 [==============================] - 1s 4ms/step - loss: 0.4896 - accuracy: 0.8357\n",
            "Epoch 4/100\n",
            "197/197 [==============================] - 1s 4ms/step - loss: 0.3413 - accuracy: 0.8930\n",
            "Epoch 5/100\n",
            "197/197 [==============================] - 1s 3ms/step - loss: 0.2666 - accuracy: 0.9210\n",
            "Epoch 6/100\n",
            "197/197 [==============================] - 1s 3ms/step - loss: 0.2195 - accuracy: 0.9342\n",
            "Epoch 7/100\n",
            "197/197 [==============================] - 1s 3ms/step - loss: 0.1888 - accuracy: 0.9413\n",
            "Epoch 8/100\n",
            "197/197 [==============================] - 1s 4ms/step - loss: 0.1654 - accuracy: 0.9555\n",
            "Epoch 9/100\n",
            "197/197 [==============================] - 1s 4ms/step - loss: 0.1462 - accuracy: 0.9614\n",
            "Epoch 10/100\n",
            "197/197 [==============================] - 1s 3ms/step - loss: 0.1307 - accuracy: 0.9666\n",
            "Epoch 11/100\n",
            "197/197 [==============================] - 1s 3ms/step - loss: 0.1184 - accuracy: 0.9709\n",
            "Epoch 12/100\n",
            "197/197 [==============================] - 1s 3ms/step - loss: 0.1099 - accuracy: 0.9763\n",
            "Epoch 13/100\n",
            "197/197 [==============================] - 1s 4ms/step - loss: 0.1020 - accuracy: 0.9746\n",
            "Epoch 14/100\n",
            "197/197 [==============================] - 1s 3ms/step - loss: 0.0959 - accuracy: 0.9785\n",
            "Epoch 15/100\n",
            "197/197 [==============================] - 1s 4ms/step - loss: 0.0899 - accuracy: 0.9806\n",
            "Epoch 16/100\n",
            "197/197 [==============================] - 1s 3ms/step - loss: 0.0852 - accuracy: 0.9812\n",
            "Epoch 17/100\n",
            "197/197 [==============================] - 1s 3ms/step - loss: 0.0805 - accuracy: 0.9816\n",
            "Epoch 18/100\n",
            "197/197 [==============================] - 1s 3ms/step - loss: 0.0762 - accuracy: 0.9843\n",
            "Epoch 19/100\n",
            "197/197 [==============================] - 1s 4ms/step - loss: 0.0728 - accuracy: 0.9843\n",
            "Epoch 20/100\n",
            "197/197 [==============================] - 1s 4ms/step - loss: 0.0684 - accuracy: 0.9857\n",
            "Epoch 21/100\n",
            "197/197 [==============================] - 1s 4ms/step - loss: 0.0656 - accuracy: 0.9844\n",
            "Epoch 22/100\n",
            "197/197 [==============================] - 1s 3ms/step - loss: 0.0626 - accuracy: 0.9857\n",
            "Epoch 23/100\n",
            "197/197 [==============================] - 1s 4ms/step - loss: 0.0596 - accuracy: 0.9870\n",
            "Epoch 24/100\n",
            "197/197 [==============================] - 1s 4ms/step - loss: 0.0582 - accuracy: 0.9858\n",
            "Epoch 25/100\n",
            "197/197 [==============================] - 1s 3ms/step - loss: 0.0556 - accuracy: 0.9874\n",
            "Epoch 26/100\n",
            "197/197 [==============================] - 1s 3ms/step - loss: 0.0534 - accuracy: 0.9890\n",
            "Epoch 27/100\n",
            "197/197 [==============================] - 1s 3ms/step - loss: 0.0515 - accuracy: 0.9892\n",
            "Epoch 28/100\n",
            "197/197 [==============================] - 1s 3ms/step - loss: 0.0508 - accuracy: 0.9878\n",
            "Epoch 29/100\n",
            "197/197 [==============================] - 1s 3ms/step - loss: 0.0480 - accuracy: 0.9895\n",
            "Epoch 30/100\n",
            "197/197 [==============================] - 1s 3ms/step - loss: 0.0463 - accuracy: 0.9901\n",
            "Epoch 31/100\n",
            "197/197 [==============================] - 1s 4ms/step - loss: 0.0453 - accuracy: 0.9885\n",
            "Epoch 32/100\n",
            "197/197 [==============================] - 1s 3ms/step - loss: 0.0440 - accuracy: 0.9900\n",
            "Epoch 33/100\n",
            "197/197 [==============================] - 1s 3ms/step - loss: 0.0426 - accuracy: 0.9900\n",
            "Epoch 34/100\n",
            "197/197 [==============================] - 1s 4ms/step - loss: 0.0410 - accuracy: 0.9906\n",
            "Epoch 35/100\n",
            "197/197 [==============================] - 1s 4ms/step - loss: 0.0394 - accuracy: 0.9908\n",
            "Epoch 36/100\n",
            "197/197 [==============================] - 1s 3ms/step - loss: 0.0388 - accuracy: 0.9914\n",
            "Epoch 37/100\n",
            "197/197 [==============================] - 1s 4ms/step - loss: 0.0376 - accuracy: 0.9916\n",
            "Epoch 38/100\n",
            "197/197 [==============================] - 1s 3ms/step - loss: 0.0364 - accuracy: 0.9920\n",
            "Epoch 39/100\n",
            "197/197 [==============================] - 1s 3ms/step - loss: 0.0362 - accuracy: 0.9906\n",
            "Epoch 40/100\n",
            "197/197 [==============================] - 1s 3ms/step - loss: 0.0359 - accuracy: 0.9917\n",
            "Epoch 41/100\n",
            "197/197 [==============================] - 1s 3ms/step - loss: 0.0341 - accuracy: 0.9906\n",
            "Epoch 42/100\n",
            "197/197 [==============================] - 1s 4ms/step - loss: 0.0337 - accuracy: 0.9914\n",
            "Epoch 43/100\n",
            "197/197 [==============================] - 1s 3ms/step - loss: 0.0322 - accuracy: 0.9932\n",
            "Epoch 44/100\n",
            "197/197 [==============================] - 1s 3ms/step - loss: 0.0320 - accuracy: 0.9917\n",
            "Epoch 45/100\n",
            "197/197 [==============================] - 1s 3ms/step - loss: 0.0311 - accuracy: 0.9928\n",
            "Epoch 46/100\n",
            "197/197 [==============================] - 1s 3ms/step - loss: 0.0299 - accuracy: 0.9924\n",
            "Epoch 47/100\n",
            "197/197 [==============================] - 1s 3ms/step - loss: 0.0297 - accuracy: 0.9924\n",
            "Epoch 48/100\n",
            "197/197 [==============================] - 1s 3ms/step - loss: 0.0290 - accuracy: 0.9927\n",
            "Epoch 49/100\n",
            "197/197 [==============================] - 1s 4ms/step - loss: 0.0283 - accuracy: 0.9925\n",
            "Epoch 50/100\n",
            "197/197 [==============================] - 1s 3ms/step - loss: 0.0272 - accuracy: 0.9932\n",
            "Epoch 51/100\n",
            "197/197 [==============================] - 1s 4ms/step - loss: 0.0269 - accuracy: 0.9935\n",
            "Epoch 52/100\n",
            "197/197 [==============================] - 1s 4ms/step - loss: 0.0271 - accuracy: 0.9927\n",
            "Epoch 53/100\n",
            "197/197 [==============================] - 1s 4ms/step - loss: 0.0262 - accuracy: 0.9928\n",
            "Epoch 54/100\n",
            "197/197 [==============================] - 1s 4ms/step - loss: 0.0271 - accuracy: 0.9924\n",
            "Epoch 55/100\n",
            "197/197 [==============================] - 1s 3ms/step - loss: 0.0251 - accuracy: 0.9941\n",
            "Epoch 56/100\n",
            "197/197 [==============================] - 1s 3ms/step - loss: 0.0244 - accuracy: 0.9930\n",
            "Epoch 57/100\n",
            "197/197 [==============================] - 1s 3ms/step - loss: 0.0240 - accuracy: 0.9940\n",
            "Epoch 58/100\n",
            "197/197 [==============================] - 1s 3ms/step - loss: 0.0239 - accuracy: 0.9941\n",
            "Epoch 59/100\n",
            "197/197 [==============================] - 1s 4ms/step - loss: 0.0237 - accuracy: 0.9943\n",
            "Epoch 60/100\n",
            "197/197 [==============================] - 1s 4ms/step - loss: 0.0231 - accuracy: 0.9938\n",
            "Epoch 61/100\n",
            "197/197 [==============================] - 1s 3ms/step - loss: 0.0223 - accuracy: 0.9933\n",
            "Epoch 62/100\n",
            "197/197 [==============================] - 1s 3ms/step - loss: 0.0220 - accuracy: 0.9952\n",
            "Epoch 63/100\n",
            "197/197 [==============================] - 1s 3ms/step - loss: 0.0215 - accuracy: 0.9949\n",
            "Epoch 64/100\n",
            "197/197 [==============================] - 1s 3ms/step - loss: 0.0221 - accuracy: 0.9944\n",
            "Epoch 65/100\n",
            "197/197 [==============================] - 1s 4ms/step - loss: 0.0214 - accuracy: 0.9941\n",
            "Epoch 66/100\n",
            "197/197 [==============================] - 1s 3ms/step - loss: 0.0211 - accuracy: 0.9943\n",
            "Epoch 67/100\n",
            "197/197 [==============================] - 1s 3ms/step - loss: 0.0215 - accuracy: 0.9935\n",
            "Epoch 68/100\n",
            "197/197 [==============================] - 1s 3ms/step - loss: 0.0206 - accuracy: 0.9941\n",
            "Epoch 69/100\n",
            "197/197 [==============================] - 1s 4ms/step - loss: 0.0200 - accuracy: 0.9946\n",
            "Epoch 70/100\n",
            "197/197 [==============================] - 1s 3ms/step - loss: 0.0193 - accuracy: 0.9952\n",
            "Epoch 71/100\n",
            "197/197 [==============================] - 1s 4ms/step - loss: 0.0196 - accuracy: 0.9943\n",
            "Epoch 72/100\n",
            "197/197 [==============================] - 1s 3ms/step - loss: 0.0183 - accuracy: 0.9949\n",
            "Epoch 73/100\n",
            "197/197 [==============================] - 1s 3ms/step - loss: 0.0182 - accuracy: 0.9952\n",
            "Epoch 74/100\n",
            "197/197 [==============================] - 1s 3ms/step - loss: 0.0184 - accuracy: 0.9949\n",
            "Epoch 75/100\n",
            "197/197 [==============================] - 1s 4ms/step - loss: 0.0180 - accuracy: 0.9949\n",
            "Epoch 76/100\n",
            "197/197 [==============================] - 1s 3ms/step - loss: 0.0175 - accuracy: 0.9951\n",
            "Epoch 77/100\n",
            "197/197 [==============================] - 1s 4ms/step - loss: 0.0177 - accuracy: 0.9946\n",
            "Epoch 78/100\n",
            "197/197 [==============================] - 1s 3ms/step - loss: 0.0174 - accuracy: 0.9955\n",
            "Epoch 79/100\n",
            "197/197 [==============================] - 1s 3ms/step - loss: 0.0176 - accuracy: 0.9946\n",
            "Epoch 80/100\n",
            "197/197 [==============================] - 1s 3ms/step - loss: 0.0169 - accuracy: 0.9949\n",
            "Epoch 81/100\n",
            "197/197 [==============================] - 1s 3ms/step - loss: 0.0174 - accuracy: 0.9955\n",
            "Epoch 82/100\n",
            "197/197 [==============================] - 1s 3ms/step - loss: 0.0166 - accuracy: 0.9957\n",
            "Epoch 83/100\n",
            "197/197 [==============================] - 1s 4ms/step - loss: 0.0165 - accuracy: 0.9955\n",
            "Epoch 84/100\n",
            "197/197 [==============================] - 1s 3ms/step - loss: 0.0160 - accuracy: 0.9954\n",
            "Epoch 85/100\n",
            "197/197 [==============================] - 1s 4ms/step - loss: 0.0161 - accuracy: 0.9957\n",
            "Epoch 86/100\n",
            "197/197 [==============================] - 1s 4ms/step - loss: 0.0160 - accuracy: 0.9948\n",
            "Epoch 87/100\n",
            "197/197 [==============================] - 1s 3ms/step - loss: 0.0157 - accuracy: 0.9954\n",
            "Epoch 88/100\n",
            "197/197 [==============================] - 1s 4ms/step - loss: 0.0159 - accuracy: 0.9959\n",
            "Epoch 89/100\n",
            "197/197 [==============================] - 1s 4ms/step - loss: 0.0157 - accuracy: 0.9963\n",
            "Epoch 90/100\n",
            "197/197 [==============================] - 1s 3ms/step - loss: 0.0149 - accuracy: 0.9960\n",
            "Epoch 91/100\n",
            "197/197 [==============================] - 1s 3ms/step - loss: 0.0153 - accuracy: 0.9954\n",
            "Epoch 92/100\n",
            "197/197 [==============================] - 1s 4ms/step - loss: 0.0147 - accuracy: 0.9955\n",
            "Epoch 93/100\n",
            "197/197 [==============================] - 1s 3ms/step - loss: 0.0150 - accuracy: 0.9949\n",
            "Epoch 94/100\n",
            "197/197 [==============================] - 1s 3ms/step - loss: 0.0147 - accuracy: 0.9957\n",
            "Epoch 95/100\n",
            "197/197 [==============================] - 1s 4ms/step - loss: 0.0150 - accuracy: 0.9960\n",
            "Epoch 96/100\n",
            "197/197 [==============================] - 1s 3ms/step - loss: 0.0144 - accuracy: 0.9954\n",
            "Epoch 97/100\n",
            "197/197 [==============================] - 1s 4ms/step - loss: 0.0142 - accuracy: 0.9955\n",
            "Epoch 98/100\n",
            "197/197 [==============================] - 1s 4ms/step - loss: 0.0145 - accuracy: 0.9948\n",
            "Epoch 99/100\n",
            "197/197 [==============================] - 1s 3ms/step - loss: 0.0144 - accuracy: 0.9951\n",
            "Epoch 100/100\n",
            "197/197 [==============================] - 1s 3ms/step - loss: 0.0145 - accuracy: 0.9949\n"
          ]
        },
        {
          "output_type": "execute_result",
          "data": {
            "text/plain": [
              "<keras.callbacks.History at 0x7f703e800310>"
            ]
          },
          "metadata": {},
          "execution_count": 84
        }
      ]
    },
    {
      "cell_type": "markdown",
      "metadata": {
        "id": "20Ok4goz-KAC"
      },
      "source": [
        "## Results"
      ]
    },
    {
      "cell_type": "code",
      "metadata": {
        "colab": {
          "base_uri": "https://localhost:8080/"
        },
        "id": "_IoFrxSh-Ts5",
        "outputId": "80f6c4ae-3918-44b3-9027-3c77f32bacd2"
      },
      "source": [
        "loss, acc = classANN.evaluate(Xc_test, yc_test)\n",
        "print(f'Accuracy : {acc*100} %')"
      ],
      "execution_count": 95,
      "outputs": [
        {
          "output_type": "stream",
          "name": "stdout",
          "text": [
            "50/50 [==============================] - 0s 3ms/step - loss: 0.0162 - accuracy: 0.9943\n",
            "Accuracy : 99.42784309387207 %\n"
          ]
        }
      ]
    },
    {
      "cell_type": "markdown",
      "metadata": {
        "id": "uslk5JVp_swo"
      },
      "source": [
        "# Summary\n",
        "\n",
        "For Fault Detection, the ANN Model predicted the faults with an accuracy of 99.41% and for Fault Classification, the model was able to classify faults with an accuracy of 99.42%. "
      ]
    }
  ]
}